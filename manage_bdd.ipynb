{
 "cells": [
  {
   "attachments": {},
   "cell_type": "markdown",
   "metadata": {},
   "source": [
    "#  1. Manage bdd"
   ]
  },
  {
   "cell_type": "code",
   "execution_count": 52,
   "metadata": {},
   "outputs": [],
   "source": [
    "import os\n",
    "import pandas as pd\n",
    "\n",
    "\n",
    "path_to_datafiles = os.path.join(os.getcwd(), 'datafiles')\n",
    "\n",
    "test = pd.read_csv(os.path.join(path_to_datafiles, 'BD_71_test.csv'),header =None)\n",
    "train = pd.read_csv(os.path.join(path_to_datafiles, 'BD_71_train.csv'),header =None)\n",
    "val = pd.read_csv(os.path.join(path_to_datafiles, 'BD_71_val.csv'),header =None)\n"
   ]
  },
  {
   "cell_type": "code",
   "execution_count": 53,
   "metadata": {},
   "outputs": [
    {
     "data": {
      "text/html": [
       "<div>\n",
       "<style scoped>\n",
       "    .dataframe tbody tr th:only-of-type {\n",
       "        vertical-align: middle;\n",
       "    }\n",
       "\n",
       "    .dataframe tbody tr th {\n",
       "        vertical-align: top;\n",
       "    }\n",
       "\n",
       "    .dataframe thead th {\n",
       "        text-align: right;\n",
       "    }\n",
       "</style>\n",
       "<table border=\"1\" class=\"dataframe\">\n",
       "  <thead>\n",
       "    <tr style=\"text-align: right;\">\n",
       "      <th></th>\n",
       "      <th>0</th>\n",
       "      <th>1</th>\n",
       "      <th>2</th>\n",
       "      <th>3</th>\n",
       "      <th>4</th>\n",
       "      <th>5</th>\n",
       "      <th>6</th>\n",
       "      <th>7</th>\n",
       "    </tr>\n",
       "  </thead>\n",
       "  <tbody>\n",
       "    <tr>\n",
       "      <th>0</th>\n",
       "      <td>BD_71/Anthidium septemspinosum/Anthidium septe...</td>\n",
       "      <td>20.089286</td>\n",
       "      <td>51.250000</td>\n",
       "      <td>313.75</td>\n",
       "      <td>298.50</td>\n",
       "      <td>Anthophila</td>\n",
       "      <td>500</td>\n",
       "      <td>336</td>\n",
       "    </tr>\n",
       "    <tr>\n",
       "      <th>1</th>\n",
       "      <td>BD_71/Bombus pascuorum/Bombus pascuorum54764.jpeg</td>\n",
       "      <td>48.750000</td>\n",
       "      <td>46.250000</td>\n",
       "      <td>483.75</td>\n",
       "      <td>408.75</td>\n",
       "      <td>Anthophila</td>\n",
       "      <td>500</td>\n",
       "      <td>438</td>\n",
       "    </tr>\n",
       "    <tr>\n",
       "      <th>2</th>\n",
       "      <td>BD_71/Nomada goodeniana/Nomada goodeniana5899.jpg</td>\n",
       "      <td>5.000000</td>\n",
       "      <td>16.250000</td>\n",
       "      <td>418.75</td>\n",
       "      <td>320.00</td>\n",
       "      <td>Anthophila</td>\n",
       "      <td>500</td>\n",
       "      <td>333</td>\n",
       "    </tr>\n",
       "    <tr>\n",
       "      <th>3</th>\n",
       "      <td>BD_71/Apis mellifera/Apis mellifera11416.jpg</td>\n",
       "      <td>444.000000</td>\n",
       "      <td>210.000000</td>\n",
       "      <td>696.00</td>\n",
       "      <td>520.00</td>\n",
       "      <td>Anthophila</td>\n",
       "      <td>800</td>\n",
       "      <td>602</td>\n",
       "    </tr>\n",
       "    <tr>\n",
       "      <th>4</th>\n",
       "      <td>BD_71/Andrena gravida/dsc_9352_21avr20.jpg</td>\n",
       "      <td>37.946429</td>\n",
       "      <td>2.026786</td>\n",
       "      <td>451.25</td>\n",
       "      <td>445.00</td>\n",
       "      <td>Anthophila</td>\n",
       "      <td>500</td>\n",
       "      <td>454</td>\n",
       "    </tr>\n",
       "  </tbody>\n",
       "</table>\n",
       "</div>"
      ],
      "text/plain": [
       "                                                   0           1           2  \\\n",
       "0  BD_71/Anthidium septemspinosum/Anthidium septe...   20.089286   51.250000   \n",
       "1  BD_71/Bombus pascuorum/Bombus pascuorum54764.jpeg   48.750000   46.250000   \n",
       "2  BD_71/Nomada goodeniana/Nomada goodeniana5899.jpg    5.000000   16.250000   \n",
       "3       BD_71/Apis mellifera/Apis mellifera11416.jpg  444.000000  210.000000   \n",
       "4         BD_71/Andrena gravida/dsc_9352_21avr20.jpg   37.946429    2.026786   \n",
       "\n",
       "        3       4           5    6    7  \n",
       "0  313.75  298.50  Anthophila  500  336  \n",
       "1  483.75  408.75  Anthophila  500  438  \n",
       "2  418.75  320.00  Anthophila  500  333  \n",
       "3  696.00  520.00  Anthophila  800  602  \n",
       "4  451.25  445.00  Anthophila  500  454  "
      ]
     },
     "execution_count": 53,
     "metadata": {},
     "output_type": "execute_result"
    }
   ],
   "source": [
    "test.head()"
   ]
  },
  {
   "cell_type": "code",
   "execution_count": 54,
   "metadata": {},
   "outputs": [],
   "source": [
    "!mkdir BD_71\n",
    "!mkdir BD_71/train\n",
    "!mkdir BD_71/val\n",
    "!mkdir BD_71/test\n",
    "\n",
    "!mkdir BD_71/train/Anthophila\n",
    "!mkdir BD_71/val/Anthophila\n",
    "!mkdir BD_71/test/Anthophila"
   ]
  },
  {
   "cell_type": "code",
   "execution_count": 55,
   "metadata": {},
   "outputs": [],
   "source": [
    "bd_71_location = '/home/basile/Documents/projet_bees_detection_basile/data_bees_detection'\n",
    "bd_71_new_location = os.getcwd()"
   ]
  },
  {
   "cell_type": "code",
   "execution_count": 56,
   "metadata": {},
   "outputs": [],
   "source": [
    "test['img_name'] = test[0].apply(lambda x: x.split('/')[-1])\n",
    "test['new_path'] = test['img_name'].apply(lambda x: os.path.join(bd_71_new_location, 'BD_71', 'test','Anthophila', x))\n",
    "test['old_path'] = test[0].apply(lambda x: os.path.join(bd_71_location, x))\n",
    "\n",
    "train['img_name'] = train[0].apply(lambda x: x.split('/')[-1])\n",
    "train['new_path'] = train['img_name'].apply(lambda x: os.path.join(bd_71_new_location, 'BD_71', 'train','Anthophila', x))\n",
    "train['old_path'] = train[0].apply(lambda x: os.path.join(bd_71_location, x))\n",
    "\n",
    "val['img_name'] = val[0].apply(lambda x: x.split('/')[-1])\n",
    "val['new_path'] = val['img_name'].apply(lambda x: os.path.join(bd_71_new_location, 'BD_71', 'val','Anthophila', x))\n",
    "val['old_path'] = val[0].apply(lambda x: os.path.join(bd_71_location, x))\n"
   ]
  },
  {
   "cell_type": "code",
   "execution_count": 57,
   "metadata": {},
   "outputs": [],
   "source": [
    "\n",
    "def copy_image(df):\n",
    "\n",
    "    for i in range(len(df)):\n",
    "\n",
    "        # copy image\n",
    "        cmd = 'cp \"'+ df['old_path'][i]+'\" \"'+ df['new_path'][i] + '\"'\n",
    "        os.system(cmd)"
   ]
  },
  {
   "cell_type": "code",
   "execution_count": 58,
   "metadata": {},
   "outputs": [],
   "source": [
    "copy_image(test)\n",
    "copy_image(train)\n",
    "copy_image(val)"
   ]
  },
  {
   "attachments": {},
   "cell_type": "markdown",
   "metadata": {},
   "source": [
    "# 2 Create label files.txt"
   ]
  },
  {
   "cell_type": "code",
   "execution_count": 150,
   "metadata": {},
   "outputs": [
    {
     "name": "stdout",
     "output_type": "stream",
     "text": [
      "mkdir: cannot create directory ‘datasets/BD_71/labels/train’: File exists\n",
      "mkdir: cannot create directory ‘datasets/BD_71/labels/test’: File exists\n",
      "mkdir: cannot create directory ‘datasets/BD_71/labels/val’: File exists\n",
      "mkdir: cannot create directory ‘datasets/BD_71/labels/val/Anthophila’: File exists\n"
     ]
    }
   ],
   "source": [
    "! mkdir datasets/BD_71/labels/train\n",
    "! mkdir datasets/BD_71/labels/test\n",
    "! mkdir datasets/BD_71/labels/val\n",
    "\n",
    "! mkdir datasets/BD_71/labels/train/Anthophila\n",
    "! mkdir datasets/BD_71/labels/test/Anthophila\n",
    "! mkdir datasets/BD_71/labels/val/Anthophila"
   ]
  },
  {
   "attachments": {},
   "cell_type": "markdown",
   "metadata": {},
   "source": [
    "## 2.1 Test for test split"
   ]
  },
  {
   "cell_type": "code",
   "execution_count": 151,
   "metadata": {},
   "outputs": [],
   "source": [
    "import pandas as pd\n",
    "import os\n",
    "\n",
    "path_to_jsons = '../projet_bees_detection_basile/data_bees_detection/BD_71_Annotations/JSON'\n",
    "\n",
    "df_test = pd.read_csv(os.path.join(os.getcwd(), 'datafiles', 'BD_71_test.csv'),header =None)\n",
    "\n"
   ]
  },
  {
   "cell_type": "code",
   "execution_count": 152,
   "metadata": {},
   "outputs": [],
   "source": [
    "df_test['real_label'] = df_test[0].apply(lambda x: x.split('/')[-2])\n",
    "df_test['img_name'] = df_test[0].apply(lambda x: x.split('/')[-1])"
   ]
  },
  {
   "cell_type": "code",
   "execution_count": 153,
   "metadata": {},
   "outputs": [],
   "source": [
    "import json\n",
    "\n",
    "def get_json_annotations(img_name,real_label):\n",
    "    \n",
    "   json_name = real_label+'.json' \n",
    "   json_path = os.path.join(path_to_jsons, json_name)\n",
    "\n",
    "   img_path = './BD_71/'+ real_label + '/' + img_name\n",
    "\n",
    "   # load json and serch for file_paths = img_name\n",
    "\n",
    "   f = open(json_path)\n",
    "   data = json.load(f)\n",
    "\n",
    "   for img in data:\n",
    "\n",
    "      if img['file_path'] == img_path :\n",
    "\n",
    "         return list(img['boxes'])"
   ]
  },
  {
   "cell_type": "code",
   "execution_count": 154,
   "metadata": {},
   "outputs": [],
   "source": [
    "def img_name_to_txt_path(split, img_name):\n",
    "    \n",
    "    ext = img_name.split('.')[-1]\n",
    "    txt = img_name.replace(ext, '.txt')\n",
    "\n",
    "    return os.path.join( './datasets/BD_71/labels', split, 'Anthophila', txt)\n"
   ]
  },
  {
   "cell_type": "code",
   "execution_count": 155,
   "metadata": {},
   "outputs": [],
   "source": [
    "df_test['txt_path'] = df_test['img_name'].apply(lambda x: img_name_to_txt_path('test', x))"
   ]
  },
  {
   "cell_type": "code",
   "execution_count": 156,
   "metadata": {},
   "outputs": [],
   "source": [
    "def write_txt_file(boxes, txt_path):\n",
    "    \n",
    "      \n",
    "      with open(txt_path, 'w') as f:\n",
    "         \n",
    "         for box in boxes:\n",
    "\n",
    "            xmin = box['xmin']\n",
    "            ymin = box['ymin']\n",
    "            xmax = box['xmax']\n",
    "            ymax = box['ymax']\n",
    "\n",
    "\n",
    "\n",
    "\n",
    "            x_center = (xmin + xmax) / 2\n",
    "            y_center = (ymin + ymax) / 2\n",
    "            w = xmax - xmin\n",
    "            h = ymax - ymin\n",
    "\n",
    "\n",
    "            line = '0 ' + str(x_center) + ' ' + str(y_center) + ' ' + str(w) + ' ' + str(h) + '\\n'\n",
    "               \n",
    "            f.write(line)\n",
    "               \n",
    "      return txt_path\n"
   ]
  },
  {
   "cell_type": "code",
   "execution_count": 157,
   "metadata": {},
   "outputs": [],
   "source": [
    "# iterate over all rows of df_test\n",
    "\n",
    "for i in range(len(df_test)):\n",
    "\n",
    "    boxes = get_json_annotations(df_test['img_name'][i], df_test['real_label'][i])\n",
    "    txt_path = df_test['txt_path'][i]\n",
    "    \n",
    "    write_txt_file(boxes, txt_path)"
   ]
  },
  {
   "attachments": {},
   "cell_type": "markdown",
   "metadata": {},
   "source": [
    "## 2.1 Train"
   ]
  },
  {
   "cell_type": "code",
   "execution_count": 158,
   "metadata": {},
   "outputs": [],
   "source": [
    "\n",
    "df_train = pd.read_csv(os.path.join(os.getcwd(), 'datafiles', 'BD_71_train.csv'),header =None)\n",
    "df_train['real_label'] = df_train[0].apply(lambda x: x.split('/')[-2])\n",
    "df_train['img_name'] = df_train[0].apply(lambda x: x.split('/')[-1])\n",
    "df_train['txt_path'] = df_train['img_name'].apply(lambda x: img_name_to_txt_path('train', x))\n",
    "\n",
    "\n",
    "for i in range(len(df_train)):\n",
    "\n",
    "    boxes = get_json_annotations(df_train['img_name'][i], df_train['real_label'][i])\n",
    "    txt_path = df_train['txt_path'][i]\n",
    "    \n",
    "    write_txt_file(boxes, txt_path)"
   ]
  },
  {
   "attachments": {},
   "cell_type": "markdown",
   "metadata": {},
   "source": [
    "## 2.3 Val"
   ]
  },
  {
   "cell_type": "code",
   "execution_count": 159,
   "metadata": {},
   "outputs": [],
   "source": [
    "df_val = pd.read_csv(os.path.join(os.getcwd(), 'datafiles', 'BD_71_val.csv'),header =None)\n",
    "df_val['real_label'] = df_val[0].apply(lambda x: x.split('/')[-2])\n",
    "df_val['img_name'] = df_val[0].apply(lambda x: x.split('/')[-1])\n",
    "df_val['txt_path'] = df_val['img_name'].apply(lambda x: img_name_to_txt_path('val', x))\n",
    "\n",
    "\n",
    "for i in range(len(df_val)):\n",
    "\n",
    "    boxes = get_json_annotations(df_val['img_name'][i], df_val['real_label'][i])\n",
    "    txt_path = df_val['txt_path'][i]\n",
    "    \n",
    "    write_txt_file(boxes, txt_path)"
   ]
  },
  {
   "attachments": {},
   "cell_type": "markdown",
   "metadata": {},
   "source": [
    "# 2 : FIX  PROBLEM WITH TXT FILES\n",
    "\n",
    "stored as 'img..txt' instead of 'img.txt'"
   ]
  },
  {
   "cell_type": "code",
   "execution_count": 10,
   "metadata": {},
   "outputs": [],
   "source": [
    "def rename_txt_files(dataset):\n",
    "    \n",
    "    for root,dirs,files in os.walk(dataset):\n",
    "\n",
    "        for file in files:\n",
    "\n",
    "            if file.endswith('.txt'):\n",
    "\n",
    "                txt_path = os.path.join(root, file)\n",
    "                new_txt_path = txt_path.replace('..txt', '.txt')\n",
    "                os.rename(txt_path, new_txt_path)\n",
    "\n",
    "\n",
    "rename_txt_files('./datasets/BD_71_copy')\n"
   ]
  },
  {
   "cell_type": "code",
   "execution_count": 11,
   "metadata": {},
   "outputs": [],
   "source": [
    "rename_txt_files('./datasets/BD_71')"
   ]
  },
  {
   "attachments": {},
   "cell_type": "markdown",
   "metadata": {},
   "source": [
    "# 3. Reshape with copy"
   ]
  },
  {
   "cell_type": "code",
   "execution_count": 1,
   "metadata": {},
   "outputs": [
    {
     "ename": "NotADirectoryError",
     "evalue": "[Errno 20] Not a directory: './datasets/BD_71_copy/labels/train/7_avril_023x..txt'",
     "output_type": "error",
     "traceback": [
      "\u001b[0;31m---------------------------------------------------------------------------\u001b[0m",
      "\u001b[0;31mNotADirectoryError\u001b[0m                        Traceback (most recent call last)",
      "Cell \u001b[0;32mIn[1], line 15\u001b[0m\n\u001b[1;32m     11\u001b[0m \u001b[39mfor\u001b[39;00m sub_dir \u001b[39min\u001b[39;00m os\u001b[39m.\u001b[39mlistdir(path_dir):\n\u001b[1;32m     13\u001b[0m     \u001b[39mfor\u001b[39;00m ss_dir \u001b[39min\u001b[39;00m os\u001b[39m.\u001b[39mlistdir(os\u001b[39m.\u001b[39mpath\u001b[39m.\u001b[39mjoin(path_dir, sub_dir)):\n\u001b[0;32m---> 15\u001b[0m         \u001b[39mfor\u001b[39;00m file \u001b[39min\u001b[39;00m os\u001b[39m.\u001b[39;49mlistdir(os\u001b[39m.\u001b[39;49mpath\u001b[39m.\u001b[39;49mjoin(path_dir, sub_dir, ss_dir)):\n\u001b[1;32m     16\u001b[0m \n\u001b[1;32m     17\u001b[0m             \u001b[39m# move file to previous dir\u001b[39;00m\n\u001b[1;32m     18\u001b[0m             cmd \u001b[39m=\u001b[39m \u001b[39m'\u001b[39m\u001b[39mmv \u001b[39m\u001b[39m\"\u001b[39m\u001b[39m'\u001b[39m \u001b[39m+\u001b[39m os\u001b[39m.\u001b[39mpath\u001b[39m.\u001b[39mjoin(path_dir, sub_dir, ss_dir, file) \u001b[39m+\u001b[39m \u001b[39m'\u001b[39m\u001b[39m\"\u001b[39m\u001b[39m \u001b[39m\u001b[39m\"\u001b[39m\u001b[39m'\u001b[39m \u001b[39m+\u001b[39m os\u001b[39m.\u001b[39mpath\u001b[39m.\u001b[39mjoin(path_dir, sub_dir, file) \u001b[39m+\u001b[39m \u001b[39m'\u001b[39m\u001b[39m\"\u001b[39m\u001b[39m'\u001b[39m\n\u001b[1;32m     19\u001b[0m             os\u001b[39m.\u001b[39msystem(cmd)\n",
      "\u001b[0;31mNotADirectoryError\u001b[0m: [Errno 20] Not a directory: './datasets/BD_71_copy/labels/train/7_avril_023x..txt'"
     ]
    }
   ],
   "source": [
    "\n",
    "\n",
    "import os \n",
    "path_db_copy = os.path.join('./datasets/BD_71_copy/')\n",
    "\n",
    "# # images / labels\n",
    "# for dir in os.listdir(path_db_copy):\n",
    "\n",
    "#     # train / test / val\n",
    "#     path_dir = os.path.join(path_db_copy, dir)\n",
    "\n",
    "\n",
    "#     for sub_dir in os.listdir(path_dir):\n",
    "\n",
    "#         for ss_dir in os.listdir(os.path.join(path_dir, sub_dir)):\n",
    "\n",
    "#             for file in os.listdir(os.path.join(path_dir, sub_dir, ss_dir)):\n",
    "\n",
    "#                 file_path = os.path.join(path_dir, sub_dir, ss_dir, file)\n",
    "\n",
    "#                 # move file to previous dir\n",
    "#                 cmd = 'mv \"' + os.path.join(path_dir, sub_dir, ss_dir, file) + '\" \"' + os.path.join(path_dir, sub_dir, file) + '\"'\n",
    "#                 os.system(cmd)\n",
    "\n",
    " \n"
   ]
  },
  {
   "cell_type": "code",
   "execution_count": 5,
   "metadata": {},
   "outputs": [],
   "source": [
    "path_db_copy = os.path.join('./datasets/BD_71_copy/')\n",
    "\n",
    "for root, dirs, files in os.walk(path_db_copy):\n",
    "    \n",
    "    for file in files:\n",
    "        \n",
    "        old_path = os.path.join(root, file)\n",
    "\n",
    "        # move file to previous dir\n",
    "        new_path = os.path.join(root, '..', file)\n",
    "\n",
    "        cmd = 'mv \"' + old_path + '\" \"' + new_path + '\"'\n",
    "        os.system(cmd)"
   ]
  },
  {
   "cell_type": "code",
   "execution_count": 6,
   "metadata": {},
   "outputs": [],
   "source": [
    "for root,dirs,files in os.walk(path_db_copy):\n",
    "    \n",
    "    for dir in dirs:\n",
    "        \n",
    "        # remoe empty dir\n",
    "        cmd = 'rm -r \"' + os.path.join(root, dir) + '\"'"
   ]
  },
  {
   "attachments": {},
   "cell_type": "markdown",
   "metadata": {},
   "source": [
    "# 4. Create a sample of the dataset to test the code"
   ]
  },
  {
   "cell_type": "code",
   "execution_count": 3,
   "metadata": {},
   "outputs": [],
   "source": [
    "! mkdir datasets/BD_71_sample\n",
    "\n",
    "! mkdir datasets/BD_71_sample/images\n",
    "! mkdir datasets/BD_71_sample/labels\n",
    "\n",
    "! mkdir datasets/BD_71_sample/images/train\n",
    "! mkdir datasets/BD_71_sample/images/test\n",
    "! mkdir datasets/BD_71_sample/images/valid\n",
    "\n",
    "! mkdir datasets/BD_71_sample/labels/train\n",
    "! mkdir datasets/BD_71_sample/labels/test\n",
    "! mkdir datasets/BD_71_sample/labels/valid"
   ]
  },
  {
   "cell_type": "code",
   "execution_count": 4,
   "metadata": {},
   "outputs": [],
   "source": [
    "# select 8 images from BD_71_copy train 2 from test and 2 from val\n",
    "\n",
    "import os\n",
    "import random\n",
    "\n",
    "path_db_copy = os.path.join('./datasets/BD_71_copy/')\n",
    "path_db_sample = os.path.join('./datasets/BD_71_sample/')\n",
    "\n",
    "def sample_images(path_db_copy, split, n):\n",
    "\n",
    "    \n",
    "    dir = os.path.join(path_db_copy,'images', split)\n",
    "    file = os.listdir(dir)\n",
    "    file_paths = [os.path.join(dir, x) for x in file]\n",
    "\n",
    "    # shuffle files_path\n",
    "    random.shuffle(file_paths)\n",
    "\n",
    "    # select n first files\n",
    "    file_paths = file_paths[:n]\n",
    "\n",
    "    extensions = [x.split('.')[-1] for x in file_paths]\n",
    "\n",
    "    txt_paths = [x.replace(extensions[i], 'txt') for i,x in enumerate(file_paths)]\n",
    "    txt_paths = [x.replace('images', 'labels') for x in txt_paths]\n",
    "\n",
    "    new_file_paths = [x.replace(path_db_copy, path_db_sample) for x in file_paths]\n",
    "    new_txt_paths = [x.replace(path_db_copy, path_db_sample) for x in txt_paths]\n",
    "\n",
    "    # copy files\n",
    "    for i in range(len(file_paths)):\n",
    "\n",
    "        cmd = 'cp \"' + file_paths[i] + '\" \"' + new_file_paths[i] + '\"'\n",
    "        os.system(cmd)\n",
    "        \n",
    "\n",
    "\n",
    "        cmd = 'cp \"' + txt_paths[i] + '\" \"' + new_txt_paths[i] + '\"'\n",
    "        os.system(cmd)\n",
    "        \n",
    "\n",
    "    "
   ]
  },
  {
   "cell_type": "code",
   "execution_count": 5,
   "metadata": {},
   "outputs": [],
   "source": [
    "sample_images(path_db_copy, 'train', 80)\n",
    "sample_images(path_db_copy, 'test', 20)\n",
    "sample_images(path_db_copy, 'valid', 20)"
   ]
  },
  {
   "cell_type": "code",
   "execution_count": 2,
   "metadata": {},
   "outputs": [],
   "source": [
    "! rm -r datasets/BD_71_sample"
   ]
  },
  {
   "cell_type": "code",
   "execution_count": null,
   "metadata": {},
   "outputs": [],
   "source": []
  }
 ],
 "metadata": {
  "kernelspec": {
   "display_name": "FastSAM",
   "language": "python",
   "name": "python3"
  },
  "language_info": {
   "codemirror_mode": {
    "name": "ipython",
    "version": 3
   },
   "file_extension": ".py",
   "mimetype": "text/x-python",
   "name": "python",
   "nbconvert_exporter": "python",
   "pygments_lexer": "ipython3",
   "version": "3.10.9"
  },
  "orig_nbformat": 4
 },
 "nbformat": 4,
 "nbformat_minor": 2
}
