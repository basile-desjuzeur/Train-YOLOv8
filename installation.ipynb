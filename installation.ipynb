{
 "cells": [
  {
   "attachments": {},
   "cell_type": "markdown",
   "metadata": {},
   "source": [
    "# 1. Install Conda \n",
    "\n",
    "Tuto [here](https://learnubuntu.com/install-conda/#step-1-download-the-installer-script-1)\n",
    "\n",
    "Create a conda environment with python 3.6\n",
    "\n",
    "```bash\n",
    "conda create -n FastSAM python=3.9\n",
    "conda activate FastSAM\n",
    "```"
   ]
  },
  {
   "attachments": {},
   "cell_type": "markdown",
   "metadata": {},
   "source": [
    "# 2. Install required packages\n",
    "\n",
    "Donload .requirements.txt file from this [repo](https://github.com/CASIA-IVA-Lab/FastSAM.git) and save it in the same folder as the notebook.\n",
    "```bash\n",
    "pip install -r .requirements.txt\n",
    "conda install pytorch torchvision torchaudio pytorch-cuda=11.7 -c pytorch -c nvidia\n",
    "```"
   ]
  },
  {
   "attachments": {},
   "cell_type": "markdown",
   "metadata": {},
   "source": [
    "# 3. Dowload the weights\n",
    "\n",
    "Download the weights from this [link](https://docs.ultralytics.com/models/yolov8/#supported-modes) and save them in \n",
    "./weights/ folder."
   ]
  },
  {
   "attachments": {},
   "cell_type": "markdown",
   "metadata": {},
   "source": [
    "# 4. Prepare the data\n",
    "\n",
    "See here for more details: [link](https://docs.ultralytics.com/yolov5/tutorials/train_custom_data/#train-on-custom-data)\n"
   ]
  }
 ],
 "metadata": {
  "kernelspec": {
   "display_name": "base",
   "language": "python",
   "name": "python3"
  },
  "language_info": {
   "codemirror_mode": {
    "name": "ipython",
    "version": 3
   },
   "file_extension": ".py",
   "mimetype": "text/x-python",
   "name": "python",
   "nbconvert_exporter": "python",
   "pygments_lexer": "ipython3",
   "version": "3.10.9"
  },
  "orig_nbformat": 4
 },
 "nbformat": 4,
 "nbformat_minor": 2
}
